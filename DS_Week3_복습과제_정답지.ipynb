{
 "cells": [
  {
   "cell_type": "markdown",
   "metadata": {
    "id": "eRk2JQfNcCpI"
   },
   "source": [
    "##  Week2 복습과제\n",
    "### 1. Wine 성분 데이터를 바탕으로 와인 품질 분류\n",
    "### 결정트리, 랜덤포레스트 실습\n",
    "#### 데이터셋을 다운 받아주세요!"
   ]
  },
  {
   "cell_type": "code",
   "execution_count": 1,
   "metadata": {
    "id": "ggWzaHOccCpO"
   },
   "outputs": [],
   "source": [
    "import pandas as pd\n",
    "import numpy as np\n",
    "import matplotlib.pyplot as plt\n",
    "import seaborn as sns"
   ]
  },
  {
   "cell_type": "markdown",
   "metadata": {
    "id": "so8cuxRrcCpQ"
   },
   "source": [
    "#### 1.1 'train.csv'를 불러와 train_df에, 'test.csv'를 불러와 test_df에 저장하시오"
   ]
  },
  {
   "cell_type": "code",
   "execution_count": 2,
   "metadata": {
    "id": "YQ9SfThscCpS"
   },
   "outputs": [],
   "source": [
    "train_df = pd.read_csv('train.csv')\n",
    "test_df = pd.read_csv('test.csv')"
   ]
  },
  {
   "cell_type": "markdown",
   "metadata": {
    "id": "J5K6sZkacCpU"
   },
   "source": [
    "#### 1.2 train 데이터의 3 행을 통해 데이터를 파악하시오"
   ]
  },
  {
   "cell_type": "code",
   "execution_count": 3,
   "metadata": {
    "colab": {
     "base_uri": "https://localhost:8080/",
     "height": 143
    },
    "executionInfo": {
     "elapsed": 15,
     "status": "ok",
     "timestamp": 1662260622978,
     "user": {
      "displayName": "‎김경민(자연과학대학 통계학과)",
      "userId": "08520819216930541454"
     },
     "user_tz": -540
    },
    "id": "mWcMkfaOcCpV",
    "outputId": "618264dd-0c48-4062-f0d0-7aef1963ac34"
   },
   "outputs": [
    {
     "data": {
      "text/html": [
       "<div>\n",
       "<style scoped>\n",
       "    .dataframe tbody tr th:only-of-type {\n",
       "        vertical-align: middle;\n",
       "    }\n",
       "\n",
       "    .dataframe tbody tr th {\n",
       "        vertical-align: top;\n",
       "    }\n",
       "\n",
       "    .dataframe thead th {\n",
       "        text-align: right;\n",
       "    }\n",
       "</style>\n",
       "<table border=\"1\" class=\"dataframe\">\n",
       "  <thead>\n",
       "    <tr style=\"text-align: right;\">\n",
       "      <th></th>\n",
       "      <th>index</th>\n",
       "      <th>quality</th>\n",
       "      <th>fixed acidity</th>\n",
       "      <th>volatile acidity</th>\n",
       "      <th>citric acid</th>\n",
       "      <th>residual sugar</th>\n",
       "      <th>chlorides</th>\n",
       "      <th>free sulfur dioxide</th>\n",
       "      <th>total sulfur dioxide</th>\n",
       "      <th>density</th>\n",
       "      <th>pH</th>\n",
       "      <th>sulphates</th>\n",
       "      <th>alcohol</th>\n",
       "      <th>type</th>\n",
       "    </tr>\n",
       "  </thead>\n",
       "  <tbody>\n",
       "    <tr>\n",
       "      <th>0</th>\n",
       "      <td>0</td>\n",
       "      <td>5</td>\n",
       "      <td>5.6</td>\n",
       "      <td>0.695</td>\n",
       "      <td>0.06</td>\n",
       "      <td>6.8</td>\n",
       "      <td>0.042</td>\n",
       "      <td>9.0</td>\n",
       "      <td>84.0</td>\n",
       "      <td>0.99432</td>\n",
       "      <td>3.44</td>\n",
       "      <td>0.44</td>\n",
       "      <td>10.2</td>\n",
       "      <td>white</td>\n",
       "    </tr>\n",
       "    <tr>\n",
       "      <th>1</th>\n",
       "      <td>1</td>\n",
       "      <td>5</td>\n",
       "      <td>8.8</td>\n",
       "      <td>0.610</td>\n",
       "      <td>0.14</td>\n",
       "      <td>2.4</td>\n",
       "      <td>0.067</td>\n",
       "      <td>10.0</td>\n",
       "      <td>42.0</td>\n",
       "      <td>0.99690</td>\n",
       "      <td>3.19</td>\n",
       "      <td>0.59</td>\n",
       "      <td>9.5</td>\n",
       "      <td>red</td>\n",
       "    </tr>\n",
       "    <tr>\n",
       "      <th>2</th>\n",
       "      <td>2</td>\n",
       "      <td>5</td>\n",
       "      <td>7.9</td>\n",
       "      <td>0.210</td>\n",
       "      <td>0.39</td>\n",
       "      <td>2.0</td>\n",
       "      <td>0.057</td>\n",
       "      <td>21.0</td>\n",
       "      <td>138.0</td>\n",
       "      <td>0.99176</td>\n",
       "      <td>3.05</td>\n",
       "      <td>0.52</td>\n",
       "      <td>10.9</td>\n",
       "      <td>white</td>\n",
       "    </tr>\n",
       "  </tbody>\n",
       "</table>\n",
       "</div>"
      ],
      "text/plain": [
       "   index  quality  fixed acidity  volatile acidity  citric acid  \\\n",
       "0      0        5            5.6             0.695         0.06   \n",
       "1      1        5            8.8             0.610         0.14   \n",
       "2      2        5            7.9             0.210         0.39   \n",
       "\n",
       "   residual sugar  chlorides  free sulfur dioxide  total sulfur dioxide  \\\n",
       "0             6.8      0.042                  9.0                  84.0   \n",
       "1             2.4      0.067                 10.0                  42.0   \n",
       "2             2.0      0.057                 21.0                 138.0   \n",
       "\n",
       "   density    pH  sulphates  alcohol   type  \n",
       "0  0.99432  3.44       0.44     10.2  white  \n",
       "1  0.99690  3.19       0.59      9.5    red  \n",
       "2  0.99176  3.05       0.52     10.9  white  "
      ]
     },
     "execution_count": 3,
     "metadata": {},
     "output_type": "execute_result"
    }
   ],
   "source": [
    "train_df.head(3)"
   ]
  },
  {
   "cell_type": "markdown",
   "metadata": {
    "id": "5s_U98DTcCpX"
   },
   "source": [
    "#### 1.3 index 열이 불필요해보입니다. drop을 통해 train과 test 데이터의 index행을 삭제하세요 그리고 확인해주세요"
   ]
  },
  {
   "cell_type": "code",
   "execution_count": 4,
   "metadata": {
    "colab": {
     "base_uri": "https://localhost:8080/",
     "height": 143
    },
    "executionInfo": {
     "elapsed": 568,
     "status": "ok",
     "timestamp": 1662260627482,
     "user": {
      "displayName": "‎김경민(자연과학대학 통계학과)",
      "userId": "08520819216930541454"
     },
     "user_tz": -540
    },
    "id": "wBRgrjuOcCpZ",
    "outputId": "fea90304-8050-4825-d29f-8c3dc6143edf"
   },
   "outputs": [
    {
     "data": {
      "text/html": [
       "<div>\n",
       "<style scoped>\n",
       "    .dataframe tbody tr th:only-of-type {\n",
       "        vertical-align: middle;\n",
       "    }\n",
       "\n",
       "    .dataframe tbody tr th {\n",
       "        vertical-align: top;\n",
       "    }\n",
       "\n",
       "    .dataframe thead th {\n",
       "        text-align: right;\n",
       "    }\n",
       "</style>\n",
       "<table border=\"1\" class=\"dataframe\">\n",
       "  <thead>\n",
       "    <tr style=\"text-align: right;\">\n",
       "      <th></th>\n",
       "      <th>quality</th>\n",
       "      <th>fixed acidity</th>\n",
       "      <th>volatile acidity</th>\n",
       "      <th>citric acid</th>\n",
       "      <th>residual sugar</th>\n",
       "      <th>chlorides</th>\n",
       "      <th>free sulfur dioxide</th>\n",
       "      <th>total sulfur dioxide</th>\n",
       "      <th>density</th>\n",
       "      <th>pH</th>\n",
       "      <th>sulphates</th>\n",
       "      <th>alcohol</th>\n",
       "      <th>type</th>\n",
       "    </tr>\n",
       "  </thead>\n",
       "  <tbody>\n",
       "    <tr>\n",
       "      <th>0</th>\n",
       "      <td>5</td>\n",
       "      <td>5.6</td>\n",
       "      <td>0.695</td>\n",
       "      <td>0.06</td>\n",
       "      <td>6.8</td>\n",
       "      <td>0.042</td>\n",
       "      <td>9.0</td>\n",
       "      <td>84.0</td>\n",
       "      <td>0.99432</td>\n",
       "      <td>3.44</td>\n",
       "      <td>0.44</td>\n",
       "      <td>10.2</td>\n",
       "      <td>white</td>\n",
       "    </tr>\n",
       "    <tr>\n",
       "      <th>1</th>\n",
       "      <td>5</td>\n",
       "      <td>8.8</td>\n",
       "      <td>0.610</td>\n",
       "      <td>0.14</td>\n",
       "      <td>2.4</td>\n",
       "      <td>0.067</td>\n",
       "      <td>10.0</td>\n",
       "      <td>42.0</td>\n",
       "      <td>0.99690</td>\n",
       "      <td>3.19</td>\n",
       "      <td>0.59</td>\n",
       "      <td>9.5</td>\n",
       "      <td>red</td>\n",
       "    </tr>\n",
       "    <tr>\n",
       "      <th>2</th>\n",
       "      <td>5</td>\n",
       "      <td>7.9</td>\n",
       "      <td>0.210</td>\n",
       "      <td>0.39</td>\n",
       "      <td>2.0</td>\n",
       "      <td>0.057</td>\n",
       "      <td>21.0</td>\n",
       "      <td>138.0</td>\n",
       "      <td>0.99176</td>\n",
       "      <td>3.05</td>\n",
       "      <td>0.52</td>\n",
       "      <td>10.9</td>\n",
       "      <td>white</td>\n",
       "    </tr>\n",
       "  </tbody>\n",
       "</table>\n",
       "</div>"
      ],
      "text/plain": [
       "   quality  fixed acidity  volatile acidity  citric acid  residual sugar  \\\n",
       "0        5            5.6             0.695         0.06             6.8   \n",
       "1        5            8.8             0.610         0.14             2.4   \n",
       "2        5            7.9             0.210         0.39             2.0   \n",
       "\n",
       "   chlorides  free sulfur dioxide  total sulfur dioxide  density    pH  \\\n",
       "0      0.042                  9.0                  84.0  0.99432  3.44   \n",
       "1      0.067                 10.0                  42.0  0.99690  3.19   \n",
       "2      0.057                 21.0                 138.0  0.99176  3.05   \n",
       "\n",
       "   sulphates  alcohol   type  \n",
       "0       0.44     10.2  white  \n",
       "1       0.59      9.5    red  \n",
       "2       0.52     10.9  white  "
      ]
     },
     "execution_count": 4,
     "metadata": {},
     "output_type": "execute_result"
    }
   ],
   "source": [
    "train_df.drop('index', axis = 1, inplace=True)\n",
    "test_df.drop('index', axis = 1, inplace=True)\n",
    "train_df.head(3)"
   ]
  },
  {
   "cell_type": "markdown",
   "metadata": {
    "id": "Lfu2oAAScCpa"
   },
   "source": [
    "#### 1.4 train 데이터의 결측치의 유무 여부 또는 평균, min, max, q1, q2, q3, q4 등을 describe 또는 info를 활용해 확인하시오"
   ]
  },
  {
   "cell_type": "code",
   "execution_count": 5,
   "metadata": {
    "colab": {
     "base_uri": "https://localhost:8080/"
    },
    "executionInfo": {
     "elapsed": 19,
     "status": "ok",
     "timestamp": 1662260628002,
     "user": {
      "displayName": "‎김경민(자연과학대학 통계학과)",
      "userId": "08520819216930541454"
     },
     "user_tz": -540
    },
    "id": "JSu5DbU0cCpb",
    "outputId": "1e5f708f-0ba4-41e2-af27-085269a73aac"
   },
   "outputs": [
    {
     "name": "stdout",
     "output_type": "stream",
     "text": [
      "           quality  fixed acidity  volatile acidity  citric acid  \\\n",
      "count  5497.000000    5497.000000       5497.000000  5497.000000   \n",
      "mean      5.818992       7.210115          0.338163     0.318543   \n",
      "std       0.870311       1.287579          0.163224     0.145104   \n",
      "min       3.000000       3.800000          0.080000     0.000000   \n",
      "25%       5.000000       6.400000          0.230000     0.250000   \n",
      "50%       6.000000       7.000000          0.290000     0.310000   \n",
      "75%       6.000000       7.700000          0.400000     0.390000   \n",
      "max       9.000000      15.900000          1.580000     1.660000   \n",
      "\n",
      "       residual sugar    chlorides  free sulfur dioxide  total sulfur dioxide  \\\n",
      "count     5497.000000  5497.000000          5497.000000           5497.000000   \n",
      "mean         5.438075     0.055808            30.417682            115.566491   \n",
      "std          4.756676     0.034653            17.673881             56.288223   \n",
      "min          0.600000     0.009000             1.000000              6.000000   \n",
      "25%          1.800000     0.038000            17.000000             78.000000   \n",
      "50%          3.000000     0.047000            29.000000            118.000000   \n",
      "75%          8.100000     0.064000            41.000000            155.000000   \n",
      "max         65.800000     0.610000           289.000000            440.000000   \n",
      "\n",
      "           density           pH    sulphates      alcohol  \n",
      "count  5497.000000  5497.000000  5497.000000  5497.000000  \n",
      "mean      0.994673     3.219502     0.530524    10.504918  \n",
      "std       0.003014     0.160713     0.149396     1.194524  \n",
      "min       0.987110     2.740000     0.220000     8.000000  \n",
      "25%       0.992300     3.110000     0.430000     9.500000  \n",
      "50%       0.994800     3.210000     0.510000    10.300000  \n",
      "75%       0.996930     3.320000     0.600000    11.300000  \n",
      "max       1.038980     4.010000     2.000000    14.900000  \n",
      "<class 'pandas.core.frame.DataFrame'>\n",
      "RangeIndex: 5497 entries, 0 to 5496\n",
      "Data columns (total 13 columns):\n",
      " #   Column                Non-Null Count  Dtype  \n",
      "---  ------                --------------  -----  \n",
      " 0   quality               5497 non-null   int64  \n",
      " 1   fixed acidity         5497 non-null   float64\n",
      " 2   volatile acidity      5497 non-null   float64\n",
      " 3   citric acid           5497 non-null   float64\n",
      " 4   residual sugar        5497 non-null   float64\n",
      " 5   chlorides             5497 non-null   float64\n",
      " 6   free sulfur dioxide   5497 non-null   float64\n",
      " 7   total sulfur dioxide  5497 non-null   float64\n",
      " 8   density               5497 non-null   float64\n",
      " 9   pH                    5497 non-null   float64\n",
      " 10  sulphates             5497 non-null   float64\n",
      " 11  alcohol               5497 non-null   float64\n",
      " 12  type                  5497 non-null   object \n",
      "dtypes: float64(11), int64(1), object(1)\n",
      "memory usage: 558.4+ KB\n",
      "None\n"
     ]
    }
   ],
   "source": [
    "print(train_df.describe())\n",
    "print(train_df.info())"
   ]
  },
  {
   "cell_type": "markdown",
   "metadata": {
    "id": "5vTTar3acCpd"
   },
   "source": [
    "#### 1.5 'quality'열에 어떤 값이 들어있는 지 알아보시오 (예측하고자 하는 y값이 될 열 입니다.) value_counts 사용"
   ]
  },
  {
   "cell_type": "code",
   "execution_count": 6,
   "metadata": {
    "colab": {
     "base_uri": "https://localhost:8080/"
    },
    "executionInfo": {
     "elapsed": 15,
     "status": "ok",
     "timestamp": 1662260628003,
     "user": {
      "displayName": "‎김경민(자연과학대학 통계학과)",
      "userId": "08520819216930541454"
     },
     "user_tz": -540
    },
    "id": "wds4h_9HcCpd",
    "outputId": "bcb3551a-36bc-42d5-d3a8-b1c293a43616"
   },
   "outputs": [
    {
     "data": {
      "text/plain": [
       "6    2416\n",
       "5    1788\n",
       "7     924\n",
       "4     186\n",
       "8     152\n",
       "3      26\n",
       "9       5\n",
       "Name: quality, dtype: int64"
      ]
     },
     "execution_count": 6,
     "metadata": {},
     "output_type": "execute_result"
    }
   ],
   "source": [
    "train_df['quality'].value_counts()"
   ]
  },
  {
   "cell_type": "markdown",
   "metadata": {
    "id": "pC3Hq3C6cCpe"
   },
   "source": [
    "#### 1.6 train 데이터와 test 데이터의 'type'이 object로 되어있으니 인코딩을 해주세요 (레이블인코딩, encoder.fit_transform 사용)\n",
    "#### 잘 인코딩이 되었는지 확인해주세요(value_counts() 사용)"
   ]
  },
  {
   "cell_type": "code",
   "execution_count": 7,
   "metadata": {
    "id": "WBdpEUBocCpf"
   },
   "outputs": [],
   "source": [
    "from sklearn.preprocessing import LabelEncoder"
   ]
  },
  {
   "cell_type": "code",
   "execution_count": 8,
   "metadata": {
    "colab": {
     "base_uri": "https://localhost:8080/"
    },
    "executionInfo": {
     "elapsed": 15,
     "status": "ok",
     "timestamp": 1662260628499,
     "user": {
      "displayName": "‎김경민(자연과학대학 통계학과)",
      "userId": "08520819216930541454"
     },
     "user_tz": -540
    },
    "id": "g1vqY3YDcCpf",
    "outputId": "00b4d403-18a2-4be8-a68f-baf1a347b39a"
   },
   "outputs": [
    {
     "name": "stdout",
     "output_type": "stream",
     "text": [
      "1    4159\n",
      "0    1338\n",
      "Name: type, dtype: int64\n"
     ]
    }
   ],
   "source": [
    "items = ['white','red']\n",
    "encoder = LabelEncoder()\n",
    "encoder.fit(items)\n",
    "labels = encoder.transform(items)\n",
    "train_df['type'] = encoder.fit_transform(train_df['type'].values)\n",
    "print(train_df['type'].value_counts())"
   ]
  },
  {
   "cell_type": "markdown",
   "metadata": {
    "id": "QUV6a9XbcCpg"
   },
   "source": [
    "#### 1.7 독립변수(X)와 종속변수(y)로 분리해주세요(iloc 또는 loc 활용) 그리고 확인해주세요\n",
    "#### X와 y를 X_train, X_test, y_train, y_test으로 나누시오. (test_size=0.2, random_state=12) "
   ]
  },
  {
   "cell_type": "code",
   "execution_count": 9,
   "metadata": {
    "id": "36_PVQ00cCph"
   },
   "outputs": [],
   "source": [
    "from sklearn.model_selection import train_test_split"
   ]
  },
  {
   "cell_type": "code",
   "execution_count": 10,
   "metadata": {
    "colab": {
     "base_uri": "https://localhost:8080/"
    },
    "executionInfo": {
     "elapsed": 14,
     "status": "ok",
     "timestamp": 1662260628501,
     "user": {
      "displayName": "‎김경민(자연과학대학 통계학과)",
      "userId": "08520819216930541454"
     },
     "user_tz": -540
    },
    "id": "jAJ8SikucCph",
    "outputId": "c9c0ac01-4b01-439b-dc95-073416c78668"
   },
   "outputs": [
    {
     "name": "stdout",
     "output_type": "stream",
     "text": [
      "   fixed acidity  volatile acidity  citric acid  residual sugar  chlorides  \\\n",
      "0            5.6             0.695         0.06             6.8      0.042   \n",
      "1            8.8             0.610         0.14             2.4      0.067   \n",
      "2            7.9             0.210         0.39             2.0      0.057   \n",
      "3            7.0             0.210         0.31             6.0      0.046   \n",
      "4            7.8             0.400         0.26             9.5      0.059   \n",
      "\n",
      "   free sulfur dioxide  total sulfur dioxide  density    pH  sulphates  \\\n",
      "0                  9.0                  84.0  0.99432  3.44       0.44   \n",
      "1                 10.0                  42.0  0.99690  3.19       0.59   \n",
      "2                 21.0                 138.0  0.99176  3.05       0.52   \n",
      "3                 29.0                 108.0  0.99390  3.26       0.50   \n",
      "4                 32.0                 178.0  0.99550  3.04       0.43   \n",
      "\n",
      "   alcohol  type  \n",
      "0     10.2     1  \n",
      "1      9.5     0  \n",
      "2     10.9     1  \n",
      "3     10.8     1  \n",
      "4     10.9     1  \n"
     ]
    }
   ],
   "source": [
    "X = train_df.iloc[:,1:]\n",
    "y = train_df.iloc[:,0]\n",
    "X_train, X_test, y_train, y_test = train_test_split(X, y, test_size = 0.2, random_state = 12)\n",
    "print(X.head())"
   ]
  },
  {
   "cell_type": "markdown",
   "metadata": {
    "id": "-_7jBi_CcCpj"
   },
   "source": [
    "#### 1.8 DecisionTreeClassifier를 사용해 훈련데이터를 fit 한 후, 테스트 셋으로 예측의 정확도를 구하시오. \n",
    "#### DecisionTreeClassifer 의 random_state = 12"
   ]
  },
  {
   "cell_type": "code",
   "execution_count": 11,
   "metadata": {
    "id": "3nBn5RNVcCpk"
   },
   "outputs": [],
   "source": [
    "from sklearn.tree import DecisionTreeClassifier\n",
    "from sklearn.metrics import accuracy_score"
   ]
  },
  {
   "cell_type": "code",
   "execution_count": 12,
   "metadata": {
    "colab": {
     "base_uri": "https://localhost:8080/"
    },
    "executionInfo": {
     "elapsed": 498,
     "status": "ok",
     "timestamp": 1662260629523,
     "user": {
      "displayName": "‎김경민(자연과학대학 통계학과)",
      "userId": "08520819216930541454"
     },
     "user_tz": -540
    },
    "id": "u4aYV2hncCpl",
    "outputId": "0c05395d-f852-4268-83d2-e47c2dbb0b39"
   },
   "outputs": [
    {
     "name": "stdout",
     "output_type": "stream",
     "text": [
      "결정 트리 예측 정확도 :  0.6081818181818182\n"
     ]
    }
   ],
   "source": [
    "dt_clf = DecisionTreeClassifier(random_state = 12)\n",
    "dt_clf.fit(X_train, y_train)\n",
    "pred = dt_clf.predict(X_test)\n",
    "accuracy = accuracy_score(y_test,pred)\n",
    "print('결정 트리 예측 정확도 : ', accuracy)"
   ]
  },
  {
   "cell_type": "markdown",
   "metadata": {
    "id": "vsQj2pwIcCpm"
   },
   "source": [
    "#### 1.9 GridSearchCV를 사용해 최적의 하이퍼 파라미터 조합을 찾으시오\n",
    "\n",
    "params = {\n",
    "    'max_depth' : [11, 14, 17, 20, 23, 26, 29],\n",
    "    'min_samples_split' : [2]\n",
    "}"
   ]
  },
  {
   "cell_type": "code",
   "execution_count": 13,
   "metadata": {
    "id": "wsRqw-FscCpn"
   },
   "outputs": [],
   "source": [
    "from sklearn.model_selection import GridSearchCV"
   ]
  },
  {
   "cell_type": "code",
   "execution_count": 14,
   "metadata": {
    "colab": {
     "base_uri": "https://localhost:8080/",
     "height": 325
    },
    "executionInfo": {
     "elapsed": 1677,
     "status": "ok",
     "timestamp": 1662260631173,
     "user": {
      "displayName": "‎김경민(자연과학대학 통계학과)",
      "userId": "08520819216930541454"
     },
     "user_tz": -540
    },
    "id": "A9iiozDMcCpo",
    "outputId": "7bf1edd7-a53b-4c6d-b83f-84c211d3c96b"
   },
   "outputs": [
    {
     "name": "stdout",
     "output_type": "stream",
     "text": [
      "Fitting 5 folds for each of 7 candidates, totalling 35 fits\n",
      "GridSearchCV 최고 평균 정확도 수치 : 0.5727\n",
      "GridSearchCV 최적 하이퍼 파라미터 :  {'max_depth': 17, 'min_samples_split': 2}\n"
     ]
    },
    {
     "data": {
      "text/html": [
       "<div>\n",
       "<style scoped>\n",
       "    .dataframe tbody tr th:only-of-type {\n",
       "        vertical-align: middle;\n",
       "    }\n",
       "\n",
       "    .dataframe tbody tr th {\n",
       "        vertical-align: top;\n",
       "    }\n",
       "\n",
       "    .dataframe thead th {\n",
       "        text-align: right;\n",
       "    }\n",
       "</style>\n",
       "<table border=\"1\" class=\"dataframe\">\n",
       "  <thead>\n",
       "    <tr style=\"text-align: right;\">\n",
       "      <th></th>\n",
       "      <th>param_max_depth</th>\n",
       "      <th>mean_test_score</th>\n",
       "    </tr>\n",
       "  </thead>\n",
       "  <tbody>\n",
       "    <tr>\n",
       "      <th>0</th>\n",
       "      <td>11</td>\n",
       "      <td>0.555605</td>\n",
       "    </tr>\n",
       "    <tr>\n",
       "      <th>1</th>\n",
       "      <td>14</td>\n",
       "      <td>0.567891</td>\n",
       "    </tr>\n",
       "    <tr>\n",
       "      <th>2</th>\n",
       "      <td>17</td>\n",
       "      <td>0.572667</td>\n",
       "    </tr>\n",
       "    <tr>\n",
       "      <th>3</th>\n",
       "      <td>20</td>\n",
       "      <td>0.567210</td>\n",
       "    </tr>\n",
       "    <tr>\n",
       "      <th>4</th>\n",
       "      <td>23</td>\n",
       "      <td>0.566300</td>\n",
       "    </tr>\n",
       "    <tr>\n",
       "      <th>5</th>\n",
       "      <td>26</td>\n",
       "      <td>0.565389</td>\n",
       "    </tr>\n",
       "    <tr>\n",
       "      <th>6</th>\n",
       "      <td>29</td>\n",
       "      <td>0.565616</td>\n",
       "    </tr>\n",
       "  </tbody>\n",
       "</table>\n",
       "</div>"
      ],
      "text/plain": [
       "  param_max_depth  mean_test_score\n",
       "0              11         0.555605\n",
       "1              14         0.567891\n",
       "2              17         0.572667\n",
       "3              20         0.567210\n",
       "4              23         0.566300\n",
       "5              26         0.565389\n",
       "6              29         0.565616"
      ]
     },
     "execution_count": 14,
     "metadata": {},
     "output_type": "execute_result"
    }
   ],
   "source": [
    "params =  {\n",
    "    'max_depth' : [11, 14, 17, 20, 23, 26, 29],\n",
    "    'min_samples_split' : [2]\n",
    "}\n",
    "\n",
    "grid_cv = GridSearchCV(dt_clf, param_grid=params, scoring='accuracy', cv = 5, verbose=1)\n",
    "grid_cv.fit(X_train,y_train)\n",
    "print('GridSearchCV 최고 평균 정확도 수치 : {0:.4f}'.format(grid_cv.best_score_))\n",
    "print('GridSearchCV 최적 하이퍼 파라미터 : ', grid_cv.best_params_)\n",
    "\n",
    "cv_results_df = pd.DataFrame(grid_cv.cv_results_)\n",
    "cv_results_df[['param_max_depth','mean_test_score']]"
   ]
  },
  {
   "cell_type": "markdown",
   "metadata": {
    "id": "zmCAS3encCpp"
   },
   "source": [
    "#### 1.10 테스트 데이터 세트에 대해 예측을 수행해주세요"
   ]
  },
  {
   "cell_type": "code",
   "execution_count": 15,
   "metadata": {
    "colab": {
     "base_uri": "https://localhost:8080/"
    },
    "executionInfo": {
     "elapsed": 19,
     "status": "ok",
     "timestamp": 1662260631174,
     "user": {
      "displayName": "‎김경민(자연과학대학 통계학과)",
      "userId": "08520819216930541454"
     },
     "user_tz": -540
    },
    "id": "UiM0WfficCpp",
    "outputId": "efbf1963-9d0d-4ff6-99e4-c91d149c1601"
   },
   "outputs": [
    {
     "name": "stdout",
     "output_type": "stream",
     "text": [
      "결정 트리 예측 정확도 :  0.5972727272727273\n"
     ]
    }
   ],
   "source": [
    "best_df_clf = grid_cv.best_estimator_\n",
    "pred1 = best_df_clf.predict(X_test)\n",
    "accuracy = accuracy_score(y_test, pred1)\n",
    "print('결정 트리 예측 정확도 : ', accuracy)"
   ]
  },
  {
   "cell_type": "markdown",
   "metadata": {
    "id": "opHJ0QMhcCps"
   },
   "source": [
    "### 2. 앙상블, 랜덤 포레스트"
   ]
  },
  {
   "cell_type": "markdown",
   "metadata": {
    "id": "zPrxkXoXcCqF"
   },
   "source": [
    "#### 2.1 개별 모델로 로지스틱 회귀와 KNN을 사용하여 개별 모델의 학습 / 예측/ 평가를 진행해보세요. (solver=\"liblinear\", n_neighbors = 16)"
   ]
  },
  {
   "cell_type": "code",
   "execution_count": 16,
   "metadata": {
    "id": "zSIV-uYocCqE"
   },
   "outputs": [],
   "source": [
    "from sklearn.ensemble import VotingClassifier\n",
    "from sklearn.linear_model import LogisticRegression\n",
    "from sklearn.neighbors import KNeighborsClassifier\n",
    "from sklearn.datasets import load_breast_cancer\n",
    "from sklearn.model_selection import train_test_split\n",
    "from sklearn.metrics import accuracy_score"
   ]
  },
  {
   "cell_type": "code",
   "execution_count": 17,
   "metadata": {
    "colab": {
     "base_uri": "https://localhost:8080/"
    },
    "executionInfo": {
     "elapsed": 17,
     "status": "ok",
     "timestamp": 1662260631808,
     "user": {
      "displayName": "‎김경민(자연과학대학 통계학과)",
      "userId": "08520819216930541454"
     },
     "user_tz": -540
    },
    "id": "4s7PmfGkcCqG",
    "outputId": "d895f704-51c1-4b29-b380-e2233771268e"
   },
   "outputs": [
    {
     "name": "stdout",
     "output_type": "stream",
     "text": [
      "LogisticRegression 정확도: 0.5473\n",
      "KNeighborsClassifier 정확도: 0.4573\n"
     ]
    }
   ],
   "source": [
    "lr_clf = LogisticRegression(solver=\"liblinear\")\n",
    "knn_clf = KNeighborsClassifier(n_neighbors = 16)\n",
    "\n",
    "classifiers = [lr_clf, knn_clf]\n",
    "for classifier in classifiers:\n",
    "    classifier.fit(X_train, y_train)\n",
    "    pred = classifier.predict(X_test)\n",
    "    class_name = classifier.__class__.__name__\n",
    "    print(\"{0} 정확도: {1:.4f}\".format(class_name, accuracy_score(y_test,pred)))"
   ]
  },
  {
   "cell_type": "markdown",
   "metadata": {
    "id": "nS1ttp4_cCqG"
   },
   "source": [
    "#### 2.2 로지스틱 회귀와 KNN을 기반으로 하여 보팅 분류기를 만들어 본 후, 학습/예측/평가를 진행해보세요. (VotingClassifier 사용, voting='soft')"
   ]
  },
  {
   "cell_type": "code",
   "execution_count": 18,
   "metadata": {
    "colab": {
     "base_uri": "https://localhost:8080/"
    },
    "executionInfo": {
     "elapsed": 613,
     "status": "ok",
     "timestamp": 1662260632409,
     "user": {
      "displayName": "‎김경민(자연과학대학 통계학과)",
      "userId": "08520819216930541454"
     },
     "user_tz": -540
    },
    "id": "o3-OcZLKcCqH",
    "outputId": "7975a85e-a4a3-4f39-9ad9-00d6f403df3b"
   },
   "outputs": [
    {
     "name": "stdout",
     "output_type": "stream",
     "text": [
      "Voting 분류기 정확도:0.5173\n"
     ]
    }
   ],
   "source": [
    "vo_clf = VotingClassifier(estimators = [(\"LR\", lr_clf), (\"KNN\",knn_clf)], voting = 'soft')\n",
    "\n",
    "vo_clf.fit(X_train, y_train)\n",
    "pred = vo_clf.predict(X_test)\n",
    "print(\"Voting 분류기 정확도:{0:.4f}\".format(accuracy_score(y_test, pred)))"
   ]
  },
  {
   "cell_type": "markdown",
   "metadata": {
    "id": "sbSZuAWbcCqI"
   },
   "source": [
    "#### 2.3 randomforestclassifier를 이용하여 훈련 데이터를 fit한 후, 테스트셋의 정확도를 구하세요(random_state=12, max_depth=8)"
   ]
  },
  {
   "cell_type": "code",
   "execution_count": 19,
   "metadata": {
    "colab": {
     "base_uri": "https://localhost:8080/"
    },
    "executionInfo": {
     "elapsed": 1095,
     "status": "ok",
     "timestamp": 1662261100255,
     "user": {
      "displayName": "‎김경민(자연과학대학 통계학과)",
      "userId": "08520819216930541454"
     },
     "user_tz": -540
    },
    "id": "VMS4UY9kcCqI",
    "outputId": "8b9e9733-b54b-416d-b029-803364a40f07"
   },
   "outputs": [
    {
     "name": "stdout",
     "output_type": "stream",
     "text": [
      "랜덤 포레스트 정확도 : 0.6109\n"
     ]
    }
   ],
   "source": [
    "from sklearn.ensemble import RandomForestClassifier\n",
    "from sklearn.metrics import accuracy_score\n",
    "import pandas as pd\n",
    "import warnings\n",
    "warnings.filterwarnings(\"ignore\")\n",
    "\n",
    "# 랜덤 포레스트 학습 및 별도의 테스트 세트로 예측 성능 평가\n",
    "rf_clf = RandomForestClassifier(random_state=12, max_depth=8)\n",
    "rf_clf.fit(X_train, y_train)\n",
    "pred = rf_clf.predict(X_test)\n",
    "accuracy = accuracy_score(y_test, pred)\n",
    "print(\"랜덤 포레스트 정확도 : {0:.4f}\".format(accuracy))"
   ]
  },
  {
   "cell_type": "markdown",
   "metadata": {
    "id": "tHbAlzEVcCqJ"
   },
   "source": [
    "#### 2.4 GridSearchCV를 사용해 최적의 하이퍼 파라미터 조합을 찾으세요.(random_state=12, n_jobs= -1, cv=2)\n",
    "\n",
    "params = {\n",
    "    'n_estimators':[10, 50, 100],\n",
    "    'max_depth' : [2, 8, 14, 20, 26, 32], \n",
    "    'min_samples_leaf' : [8, 12, 16, 20], \n",
    "    'min_samples_split' : [8, 16, 24, 32]\n",
    "}"
   ]
  },
  {
   "cell_type": "code",
   "execution_count": 20,
   "metadata": {
    "colab": {
     "base_uri": "https://localhost:8080/"
    },
    "executionInfo": {
     "elapsed": 190758,
     "status": "ok",
     "timestamp": 1662260823663,
     "user": {
      "displayName": "‎김경민(자연과학대학 통계학과)",
      "userId": "08520819216930541454"
     },
     "user_tz": -540
    },
    "id": "PtcrHY4fcCqJ",
    "outputId": "ef22cfb8-3f3e-446b-f8e4-813e083ce064"
   },
   "outputs": [
    {
     "name": "stdout",
     "output_type": "stream",
     "text": [
      "최적 하이퍼 파라미터:\n",
      " {'max_depth': 14, 'min_samples_leaf': 8, 'min_samples_split': 8, 'n_estimators': 50}\n",
      "최고 예측 정확도: 0.5790\n"
     ]
    }
   ],
   "source": [
    "from sklearn.model_selection import GridSearchCV\n",
    "\n",
    "params = {\n",
    "    'n_estimators':[10, 50, 100],\n",
    "    'max_depth' : [2, 8, 14, 20, 26, 32], \n",
    "    'min_samples_leaf' : [8, 12, 16, 20], \n",
    "    'min_samples_split' : [8, 16, 24, 32]\n",
    "}\n",
    "# RandomForestClassifier 객체 생성 후 GridSearchCV 수행\n",
    "rf_clf = RandomForestClassifier(random_state=12, n_jobs=-1)\n",
    "grid_cv = GridSearchCV(rf_clf , param_grid=params , cv=2, n_jobs=-1 )\n",
    "grid_cv.fit(X_train , y_train)\n",
    "\n",
    "print('최적 하이퍼 파라미터:\\n', grid_cv.best_params_)\n",
    "print('최고 예측 정확도: {0:.4f}'.format(grid_cv.best_score_))"
   ]
  },
  {
   "cell_type": "markdown",
   "metadata": {
    "id": "URM9Cs4QcCqK"
   },
   "source": [
    "#### 2.5 2.4번에서 구한 최적의 하이퍼 파라미터로 다시 RandomForestClassifier를 학습 시킨 뒤에, 예측 성능을 측정해보세요."
   ]
  },
  {
   "cell_type": "code",
   "execution_count": 21,
   "metadata": {
    "colab": {
     "base_uri": "https://localhost:8080/"
    },
    "executionInfo": {
     "elapsed": 36,
     "status": "ok",
     "timestamp": 1662260823664,
     "user": {
      "displayName": "‎김경민(자연과학대학 통계학과)",
      "userId": "08520819216930541454"
     },
     "user_tz": -540
    },
    "id": "p4Z-85h1cCqK",
    "outputId": "05bc794e-9130-4302-aa86-784c970cb9ee"
   },
   "outputs": [
    {
     "name": "stdout",
     "output_type": "stream",
     "text": [
      "예측 정확도: 0.6118\n"
     ]
    }
   ],
   "source": [
    "rf_clf1 = RandomForestClassifier(n_estimators=50, min_samples_leaf=8,max_depth=14,\n",
    "                                min_samples_split=8, random_state=12)\n",
    "rf_clf1.fit(X_train, y_train)\n",
    "pred = rf_clf1.predict(X_test)\n",
    "print('예측 정확도: {0:.4f}'.format(accuracy_score(y_test,pred)))"
   ]
  },
  {
   "cell_type": "markdown",
   "metadata": {
    "id": "2_G2Qt1tcCqK"
   },
   "source": [
    "#### 2.6 피처 주요도를 막대그래프로 시각화해보세요."
   ]
  },
  {
   "cell_type": "code",
   "execution_count": 22,
   "metadata": {
    "colab": {
     "base_uri": "https://localhost:8080/",
     "height": 390
    },
    "executionInfo": {
     "elapsed": 16,
     "status": "ok",
     "timestamp": 1662260824420,
     "user": {
      "displayName": "‎김경민(자연과학대학 통계학과)",
      "userId": "08520819216930541454"
     },
     "user_tz": -540
    },
    "id": "5WHiR0TfcCqL",
    "outputId": "192c2e0f-a6bf-4d5f-8cae-a1760c978c67"
   },
   "outputs": [
    {
     "data": {
      "image/png": "[encoded data removed]",
      "text/plain": [
       "<Figure size 576x432 with 1 Axes>"
      ]
     },
     "metadata": {
      "needs_background": "light"
     },
     "output_type": "display_data"
    }
   ],
   "source": [
    "import matplotlib.pyplot as plt\n",
    "import seaborn as sns\n",
    "%matplotlib inline\n",
    "\n",
    "ftr_importances_values = rf_clf1.feature_importances_\n",
    "ftr_importances = pd.Series(ftr_importances_values, index=X_train.columns)\n",
    "ftr_top = ftr_importances.sort_values(ascending=False)\n",
    "\n",
    "plt.figure(figsize=(8,6))\n",
    "sns.barplot(x=ftr_top, y=ftr_top.index)\n",
    "plt.show()"
   ]
  },
  {
   "cell_type": "markdown",
   "metadata": {
    "id": "b5z81Kk2cCqM"
   },
   "source": [
    "### 3. SVM 사용"
   ]
  },
  {
   "cell_type": "markdown",
   "metadata": {
    "id": "3wXT_6aOcCqN"
   },
   "source": [
    "#### 3.1 split된 와인 분류 데이터를 가지고 선형 SVM 모델을 만들어 fit 하세요. 정확도도 함께 출력하세요. (C = 5)"
   ]
  },
  {
   "cell_type": "code",
   "execution_count": 23,
   "metadata": {
    "id": "HhStbG0PcCqO"
   },
   "outputs": [],
   "source": [
    "from sklearn.metrics import accuracy_score\n",
    "from sklearn.svm import SVC"
   ]
  },
  {
   "cell_type": "code",
   "execution_count": null,
   "metadata": {
    "colab": {
     "base_uri": "https://localhost:8080/"
    },
    "executionInfo": {
     "elapsed": 1072,
     "status": "ok",
     "timestamp": 1662261154664,
     "user": {
      "displayName": "‎김경민(자연과학대학 통계학과)",
      "userId": "08520819216930541454"
     },
     "user_tz": -540
    },
    "id": "e9CRNdricCqO",
    "outputId": "b1dd095a-aba5-408a-ddc4-ceedfbcd5ab9"
   },
   "outputs": [],
   "source": [
    "lin_svm = SVC(kernel='linear',C=5)\n",
    "lin_svm.fit(X_train,y_train)\n",
    "pred = lin_svm.predict(X_test)\n",
    "accuracy = accuracy_score(y_test, pred)\n",
    "print('accuracy : {0:.4f}'.format(accuracy))"
   ]
  },
  {
   "cell_type": "markdown",
   "metadata": {
    "id": "hxultfAfcCqO"
   },
   "source": [
    "#### 3.2 와인 품질 분류 선형 SVM 모델에서 GridSearchCV를 이용하여 최적의 C값과 최고 score를 출력하세요."
   ]
  },
  {
   "cell_type": "code",
   "execution_count": null,
   "metadata": {
    "id": "x_LQtOSkcCqP"
   },
   "outputs": [],
   "source": [
    "from sklearn.model_selection import GridSearchCV\n",
    "param = {'C':[0.1,0.5,1,5,10,40]}"
   ]
  },
  {
   "cell_type": "code",
   "execution_count": null,
   "metadata": {
    "colab": {
     "base_uri": "https://localhost:8080/"
    },
    "executionInfo": {
     "elapsed": 24420,
     "status": "ok",
     "timestamp": 1662261204121,
     "user": {
      "displayName": "‎김경민(자연과학대학 통계학과)",
      "userId": "08520819216930541454"
     },
     "user_tz": -540
    },
    "id": "iuF4VajfcCqP",
    "outputId": "5214bae5-7ae6-475b-81f1-dd2874f8a74c"
   },
   "outputs": [],
   "source": [
    "GS = GridSearchCV(SVC(kernel='linear'),param,cv=5)\n",
    "GS.fit(X_train,y_train)\n",
    "print(\"최적 파라미터 : \",GS.best_params_)\n",
    "print(\"최고 스코어 : \", GS.best_score_)"
   ]
  },
  {
   "cell_type": "markdown",
   "metadata": {
    "id": "VNQgrUr9cCqQ"
   },
   "source": [
    "#### 3.3 위에서 구한 최적 파라미터로 다시 예측을 진행하세요. 정확도도 함께 출력하세요.(best_estimator_ 이용)"
   ]
  },
  {
   "cell_type": "code",
   "execution_count": null,
   "metadata": {
    "colab": {
     "base_uri": "https://localhost:8080/"
    },
    "executionInfo": {
     "elapsed": 590,
     "status": "ok",
     "timestamp": 1662261225483,
     "user": {
      "displayName": "‎김경민(자연과학대학 통계학과)",
      "userId": "08520819216930541454"
     },
     "user_tz": -540
    },
    "id": "1HaiCtYqcCqQ",
    "outputId": "d1aefb0d-d880-4c78-e5f1-6a9a29faa68a"
   },
   "outputs": [],
   "source": [
    "estimator = GS.best_estimator_\n",
    "pred = estimator.predict(X_test)\n",
    "print('accuracy : {0:.4f}'.format(accuracy_score(y_test, pred)))"
   ]
  },
  {
   "cell_type": "code",
   "execution_count": null,
   "metadata": {
    "colab": {
     "base_uri": "https://localhost:8080/"
    },
    "executionInfo": {
     "elapsed": 1177,
     "status": "ok",
     "timestamp": 1662261241905,
     "user": {
      "displayName": "‎김경민(자연과학대학 통계학과)",
      "userId": "08520819216930541454"
     },
     "user_tz": -540
    },
    "id": "PR_ehat5cCqR",
    "outputId": "7bf56a54-df0f-46df-ec16-3c5d891fab4b"
   },
   "outputs": [],
   "source": [
    "# 다른 방법\n",
    "lin_svm = SVC(kernel='linear',C=1)\n",
    "lin_svm.fit(X_train,y_train)\n",
    "pred = lin_svm.predict(X_test)\n",
    "accuracy = accuracy_score(y_test, pred)\n",
    "print('accuracy : {0:.4f}'.format(accuracy))"
   ]
  },
  {
   "cell_type": "markdown",
   "metadata": {
    "id": "-JvfoEBicCqR"
   },
   "source": [
    "#### 3.4 GridSearchCV를 이용하여 최적의 gamma, C 값을 찾고 가우시안 SVM 모델을 만들어 fit 하세요."
   ]
  },
  {
   "cell_type": "code",
   "execution_count": null,
   "metadata": {
    "id": "CvyoXXXNcCqS"
   },
   "outputs": [],
   "source": [
    "params={'C':[0.1,0.5,1,5,10,40,100],\n",
    "        'gamma':[0.1,0.25,0.5,0.75,1,10]}"
   ]
  },
  {
   "cell_type": "code",
   "execution_count": null,
   "metadata": {
    "colab": {
     "base_uri": "https://localhost:8080/"
    },
    "executionInfo": {
     "elapsed": 1876,
     "status": "ok",
     "timestamp": 1662261365176,
     "user": {
      "displayName": "‎김경민(자연과학대학 통계학과)",
      "userId": "08520819216930541454"
     },
     "user_tz": -540
    },
    "id": "YS_K1vc2cCqS",
    "outputId": "2f5b22c9-3929-4253-e39c-069c71f25190"
   },
   "outputs": [],
   "source": [
    "GS = GridSearchCV(SVC(kernel='rbf'),params,cv=5)\n",
    "GS.fit(X_train,y_train)\n",
    "print(\"최적 파라미터 : \",GS.best_params_)\n",
    "print(\"최고 스코어 : \", GS.best_score_)\n",
    "\n",
    "rbf_svm = SVC(kernel='rbf',gamma=0.1, C=1)\n",
    "rbf_svm.fit(X_train,y_train)\n",
    "pred = rbf_svm.predict(X_test)\n",
    "print('accuracy : {0:.4f}'.format(accuracy_score(y_test, pred)))"
   ]
  }
 ],
 "metadata": {
  "colab": {
   "collapsed_sections": [
    "QUV6a9XbcCpg",
    "-_7jBi_CcCpj",
    "vsQj2pwIcCpm",
    "zmCAS3encCpp",
    "zPrxkXoXcCqF",
    "nS1ttp4_cCqG",
    "sbSZuAWbcCqI",
    "tHbAlzEVcCqJ",
    "URM9Cs4QcCqK",
    "2_G2Qt1tcCqK",
    "3wXT_6aOcCqN",
    "hxultfAfcCqO",
    "VNQgrUr9cCqQ",
    "-JvfoEBicCqR"
   ],
   "provenance": []
  },
  "kernelspec": {
   "display_name": "Python 3",
   "language": "python",
   "name": "python3"
  },
  "language_info": {
   "codemirror_mode": {
    "name": "ipython",
    "version": 3
   },
   "file_extension": ".py",
   "mimetype": "text/x-python",
   "name": "python",
   "nbconvert_exporter": "python",
   "pygments_lexer": "ipython3",
   "version": "3.10.2"
  },
  "vscode": {
   "interpreter": {
    "hash": "aee8b7b246df8f9039afb4144a1f6fd8d2ca17a180786b69acc140d282b71a49"
   }
  }
 },
 "nbformat": 4,
 "nbformat_minor": 1
}
