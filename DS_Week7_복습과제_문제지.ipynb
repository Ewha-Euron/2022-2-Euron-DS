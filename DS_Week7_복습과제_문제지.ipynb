{
  "cells": [
    {
      "cell_type": "markdown",
      "id": "7281eff9",
      "metadata": {
        "id": "7281eff9"
      },
      "source": [
        "# week 7"
      ]
    },
    {
      "cell_type": "markdown",
      "id": "d778db1c",
      "metadata": {
        "id": "d778db1c"
      },
      "source": [
        "### 1.1 다음 코드를 실행해서 데이터 프레임을 생성하세요"
      ]
    },
    {
      "cell_type": "code",
      "execution_count": null,
      "id": "6b76a9ce",
      "metadata": {
        "id": "6b76a9ce"
      },
      "outputs": [],
      "source": [
        "import pandas as pd\n",
        "import seaborn as sns\n",
        "\n",
        "df = pd.DataFrame(columns=['calory', 'breakfast', 'lunch', 'dinner', 'exercise', 'body_shape'])\n",
        "\n",
        "df.loc[0] = [1200, 1, 0, 0, 2, 'Skinny']\n",
        "df.loc[1] = [2800, 1, 1, 1, 1, 'Normal']\n",
        "df.loc[2] = [3500, 2, 2, 1, 0, 'Fat']\n",
        "df.loc[3] = [1400, 0, 1, 0, 3, 'Skinny']\n",
        "df.loc[4] = [5000, 2, 2, 2, 0, 'Fat']\n",
        "df.loc[5] = [1300, 0, 0, 1, 2, 'Skinny']\n",
        "df.loc[6] = [3000, 1, 0, 1, 1, 'Normal']\n",
        "df.loc[7] = [4000, 2, 2, 2, 0, 'Fat']\n",
        "df.loc[8] = [2600, 0, 2, 0, 0, 'Normal']\n",
        "df.loc[9] = [3000, 1, 2, 1, 1, 'Fat']"
      ]
    },
    {
      "cell_type": "markdown",
      "id": "4cd0eefd",
      "metadata": {
        "id": "4cd0eefd"
      },
      "source": [
        "### 1.2 데이터 프레임을 확인하고, X= calory, breakfast, lunch, dinner, exercise / y=body shape로 변수 분리하세요"
      ]
    },
    {
      "cell_type": "code",
      "source": [],
      "metadata": {
        "id": "VdSz3rI6zWVS"
      },
      "id": "VdSz3rI6zWVS",
      "execution_count": null,
      "outputs": []
    },
    {
      "cell_type": "markdown",
      "id": "696a760e",
      "metadata": {
        "id": "696a760e"
      },
      "source": [
        "### 1.3 X 데이터 값의 범위가 균일하지 않으므로 standard scaler를 이용해서 리스케일 해주세요"
      ]
    },
    {
      "cell_type": "code",
      "execution_count": null,
      "id": "8e8b94f2",
      "metadata": {
        "id": "8e8b94f2"
      },
      "outputs": [],
      "source": [
        "from sklearn.preprocessing import StandardScaler\n",
        "x_std = "
      ]
    },
    {
      "cell_type": "markdown",
      "id": "8b16d09b",
      "metadata": {
        "id": "8b16d09b"
      },
      "source": [
        "### 1.4 사이킷런 PCA 클래스를 이용해서 5차원 데이터를 1차원으로 변환하고 shape를 확인해주세요"
      ]
    },
    {
      "cell_type": "code",
      "execution_count": null,
      "id": "c422de02",
      "metadata": {
        "id": "c422de02"
      },
      "outputs": [],
      "source": [
        "from sklearn import decomposition\n",
        "from sklearn.decomposition import PCA"
      ]
    },
    {
      "cell_type": "markdown",
      "id": "629a478a",
      "metadata": {
        "id": "629a478a"
      },
      "source": [
        "### 1.5 explained_variance_ratio_ 변수를 이용해서 보존된 변동성 비율을 확인해주세요"
      ]
    },
    {
      "cell_type": "code",
      "source": [],
      "metadata": {
        "id": "gU5clV1788Hc"
      },
      "id": "gU5clV1788Hc",
      "execution_count": null,
      "outputs": []
    },
    {
      "cell_type": "markdown",
      "source": [
        "### 1.6 적절한 차원의 수 선택하기 - 원본 데이터셋의 분산을 95%로 유지하는데 필요한 최소한의 PC 개수 즉 차원 수 d를 구하세요"
      ],
      "metadata": {
        "id": "WJ8eeBj51v2X"
      },
      "id": "WJ8eeBj51v2X"
    },
    {
      "cell_type": "code",
      "source": [],
      "metadata": {
        "id": "WjTMV1L-88vE"
      },
      "id": "WjTMV1L-88vE",
      "execution_count": null,
      "outputs": []
    },
    {
      "cell_type": "markdown",
      "source": [
        "### 1.7 n_components를 설정하여 PCA를 다시 실행하는 인자로 보존할 분산의 비율을 넣어주세요. (분산의 비율 : 0.95) 이를 X_reduced에 저장하세요 그 후 shape을 통해서 몇차원으로 압축되었는지 확인하세요"
      ],
      "metadata": {
        "id": "Ij6PTebe2MjN"
      },
      "id": "Ij6PTebe2MjN"
    },
    {
      "cell_type": "code",
      "source": [],
      "metadata": {
        "id": "aIByk3Mm89al"
      },
      "id": "aIByk3Mm89al",
      "execution_count": null,
      "outputs": []
    },
    {
      "cell_type": "markdown",
      "source": [
        "### 1.8 압축된 데이터셋에 PCA 투영의 변환을 반대로 적용하여 다시 원래의 차원으로 되돌리세요 그 후 shape을 통해서 원래의 차원으로 잘 돌아왔는지 확인하세요"
      ],
      "metadata": {
        "id": "oAts_8pp3KUd"
      },
      "id": "oAts_8pp3KUd"
    },
    {
      "cell_type": "code",
      "source": [],
      "metadata": {
        "id": "CKn000_m89xt"
      },
      "id": "CKn000_m89xt",
      "execution_count": null,
      "outputs": []
    },
    {
      "cell_type": "markdown",
      "source": [
        "### 1.9 랜덤 PCA를 이용하여 데이터를 2차원으로 압축하세요. (random_state=42)\n",
        "\n",
        "\n"
      ],
      "metadata": {
        "id": "OR3fW2r94cso"
      },
      "id": "OR3fW2r94cso"
    },
    {
      "cell_type": "code",
      "source": [],
      "metadata": {
        "id": "khc-QWCg8-bV"
      },
      "id": "khc-QWCg8-bV",
      "execution_count": null,
      "outputs": []
    },
    {
      "cell_type": "markdown",
      "source": [
        "### 1.10 점진적 PCA를 이용하여 데이터를 4차원으로 압축하세요. (배치사이즈:2) 그 후 shape을 통해 확인하세요\n",
        "\n",
        "\n"
      ],
      "metadata": {
        "id": "I6jPdC0b4v5y"
      },
      "id": "I6jPdC0b4v5y"
    },
    {
      "cell_type": "code",
      "source": [
        "from sklearn.decomposition import IncrementalPCA"
      ],
      "metadata": {
        "id": "HugYveK081n5"
      },
      "id": "HugYveK081n5",
      "execution_count": null,
      "outputs": []
    },
    {
      "cell_type": "code",
      "source": [],
      "metadata": {
        "id": "N7hKhOLz8_Ad"
      },
      "id": "N7hKhOLz8_Ad",
      "execution_count": null,
      "outputs": []
    },
    {
      "cell_type": "markdown",
      "source": [
        "### 1.11 커널 PCA를 이용하여 데이터를 2차원으로 압축하세요. (kernel=\"rbf\",gamma=0.4) 그 후 shape을 통해 확인하세요\n"
      ],
      "metadata": {
        "id": "o8rcgS0C5aLZ"
      },
      "id": "o8rcgS0C5aLZ"
    },
    {
      "cell_type": "code",
      "source": [
        "from sklearn.decomposition import KernelPCA"
      ],
      "metadata": {
        "id": "rTU0f8ZL8zUY"
      },
      "id": "rTU0f8ZL8zUY",
      "execution_count": null,
      "outputs": []
    },
    {
      "cell_type": "code",
      "source": [],
      "metadata": {
        "id": "u1w3xZmz8_lW"
      },
      "id": "u1w3xZmz8_lW",
      "execution_count": null,
      "outputs": []
    },
    {
      "cell_type": "markdown",
      "source": [
        "### 1.12 커널 PCA의 하이퍼파라미터를 선택하세요 kPCA를 이용하여 2차원으로 축소하고 Logistic Regression으로 Classification을 진행하세요. 그 다음 가장 높은 accuracy를 얻기 위해 GridSearchCV를사용하여 kPCA에 가장 좋은 커널과 gamma 파라미터를 구하세요.\n",
        "이때, kpca__kernel은 [\"linear\", \"poly\", \"rbf\", \"sigmoid\", \"cosine\"], kpca__gamma\"은 np.linspace(0.03, 0.05, 1,2,10)\n"
      ],
      "metadata": {
        "id": "L2O_3R1C52HE"
      },
      "id": "L2O_3R1C52HE"
    },
    {
      "cell_type": "code",
      "source": [
        "from sklearn.model_selection import GridSearchCV\n",
        "from sklearn.linear_model import LogisticRegression\n",
        "from sklearn.pipeline import Pipeline"
      ],
      "metadata": {
        "id": "mV-ouBGm8wOm"
      },
      "id": "mV-ouBGm8wOm",
      "execution_count": null,
      "outputs": []
    },
    {
      "cell_type": "code",
      "source": [],
      "metadata": {
        "id": "F1yz7Qxs9AIc"
      },
      "id": "F1yz7Qxs9AIc",
      "execution_count": null,
      "outputs": []
    },
    {
      "cell_type": "markdown",
      "id": "9ca50c98",
      "metadata": {
        "id": "9ca50c98"
      },
      "source": [
        "### 2.1 다음 iris 데이터 세트를 출력해주세요"
      ]
    },
    {
      "cell_type": "code",
      "execution_count": null,
      "id": "510d3f8f",
      "metadata": {
        "id": "510d3f8f"
      },
      "outputs": [],
      "source": [
        "from sklearn.datasets import load_iris\n",
        "iris=load_iris()\n",
        "columns=['sepal_length', 'sepal_width', 'petal_length', 'petal_width']\n",
        "irisDF=pd.DataFrame(iris.data, columns=columns)\n",
        "irisDF['target']=iris.target"
      ]
    },
    {
      "cell_type": "markdown",
      "id": "a8897dbf",
      "metadata": {
        "id": "a8897dbf"
      },
      "source": [
        "### 2.2 X 데이터 값을 standard scaler를 이용해서 표준화 해주세요"
      ]
    },
    {
      "cell_type": "code",
      "execution_count": null,
      "id": "d346be6d",
      "metadata": {
        "id": "d346be6d"
      },
      "outputs": [],
      "source": [
        "from sklearn.preprocessing import StandardScaler"
      ]
    },
    {
      "cell_type": "markdown",
      "id": "9524087e",
      "metadata": {
        "id": "9524087e"
      },
      "source": [
        "### 2.3 PCA를 이용해 4차원 데이터를 2차원으로 변환해주세요"
      ]
    },
    {
      "cell_type": "code",
      "execution_count": null,
      "id": "201035c6",
      "metadata": {
        "id": "201035c6"
      },
      "outputs": [],
      "source": [
        "from sklearn import decomposition\n",
        "from sklearn.decomposition import PCA"
      ]
    },
    {
      "cell_type": "markdown",
      "id": "108a532b",
      "metadata": {
        "id": "108a532b"
      },
      "source": [
        "### 2.4 PCA 변환된 데이터의 칼럼 명을 pca_component1, pca_component2로 명명해서 새로운 dataframe을 만들어주세요"
      ]
    },
    {
      "cell_type": "code",
      "source": [],
      "metadata": {
        "id": "RRrZ5qYN9Ch0"
      },
      "id": "RRrZ5qYN9Ch0",
      "execution_count": null,
      "outputs": []
    },
    {
      "cell_type": "markdown",
      "id": "d029f86d",
      "metadata": {
        "id": "d029f86d"
      },
      "source": [
        "### 2.5 원본 데이터와 PCA 데이터를 각각 XGBoost로 학습시키고 (random_state=15), cross_val_score()로 5개의 교차 검증 세트로 정확도를 비교해주세요"
      ]
    },
    {
      "cell_type": "code",
      "source": [],
      "metadata": {
        "id": "HEU8HOY29C_k"
      },
      "id": "HEU8HOY29C_k",
      "execution_count": null,
      "outputs": []
    },
    {
      "cell_type": "markdown",
      "source": [
        "### 3.1 기본적인 LDA 구현을 위한 라이브러리를 import 해주세요. 와인 데이터도 로드해주세요."
      ],
      "metadata": {
        "id": "a0ca1f03"
      },
      "id": "a0ca1f03"
    },
    {
      "cell_type": "code",
      "source": [
        "from sklearn.datasets import load_wine\n",
        "\n"
      ],
      "metadata": {
        "id": "bosBIvpfpig5"
      },
      "id": "bosBIvpfpig5",
      "execution_count": null,
      "outputs": []
    },
    {
      "cell_type": "markdown",
      "source": [
        "### 3.2 X에는 features를 y에는 target을 저장해주세요."
      ],
      "metadata": {
        "id": "WX1DQMxppmbo"
      },
      "id": "WX1DQMxppmbo"
    },
    {
      "cell_type": "code",
      "source": [
        "wine = load_wine()\n",
        "\n"
      ],
      "metadata": {
        "id": "1QKARbHUpomE"
      },
      "id": "1QKARbHUpomE",
      "execution_count": null,
      "outputs": []
    },
    {
      "cell_type": "markdown",
      "source": [
        "### 3.3 X의 형태를 확인해주세요. (178,13)이 나와야합니다."
      ],
      "metadata": {
        "id": "PDJJUtDMpq-O"
      },
      "id": "PDJJUtDMpq-O"
    },
    {
      "cell_type": "code",
      "source": [],
      "metadata": {
        "id": "GrByD12Upt91"
      },
      "id": "GrByD12Upt91",
      "execution_count": null,
      "outputs": []
    },
    {
      "cell_type": "markdown",
      "source": [
        "### 3.4 X의 행 5개를 확인해주세요."
      ],
      "metadata": {
        "id": "TyI4z3TLputn"
      },
      "id": "TyI4z3TLputn"
    },
    {
      "cell_type": "code",
      "source": [],
      "metadata": {
        "id": "89-aUms4pxH0"
      },
      "id": "89-aUms4pxH0",
      "execution_count": null,
      "outputs": []
    },
    {
      "cell_type": "markdown",
      "source": [
        "### 3.5 target들의 종류를 확인해주세요."
      ],
      "metadata": {
        "id": "eURw4Fripxmq"
      },
      "id": "eURw4Fripxmq"
    },
    {
      "cell_type": "code",
      "source": [],
      "metadata": {
        "id": "EEJqrh6ypz6k"
      },
      "id": "EEJqrh6ypz6k",
      "execution_count": null,
      "outputs": []
    },
    {
      "cell_type": "markdown",
      "source": [
        "### 3.6 X_lda에 lda를 fit해주세요. "
      ],
      "metadata": {
        "id": "BW-Oq1Zyp0uV"
      },
      "id": "BW-Oq1Zyp0uV"
    },
    {
      "cell_type": "code",
      "source": [],
      "metadata": {
        "id": "Sd3v1Xvip5ic"
      },
      "id": "Sd3v1Xvip5ic",
      "execution_count": null,
      "outputs": []
    },
    {
      "cell_type": "markdown",
      "source": [
        "### 3.7 2차원 평면에 표현해주세요. 교재 395페이지를 참조해주세요."
      ],
      "metadata": {
        "id": "x2o8t9xYp6iC"
      },
      "id": "x2o8t9xYp6iC"
    },
    {
      "cell_type": "code",
      "source": [],
      "metadata": {
        "id": "TZpMgtciqFq8"
      },
      "id": "TZpMgtciqFq8",
      "execution_count": null,
      "outputs": []
    }
  ],
  "metadata": {
    "kernelspec": {
      "display_name": "Python 3 (ipykernel)",
      "language": "python",
      "name": "python3"
    },
    "language_info": {
      "codemirror_mode": {
        "name": "ipython",
        "version": 3
      },
      "file_extension": ".py",
      "mimetype": "text/x-python",
      "name": "python",
      "nbconvert_exporter": "python",
      "pygments_lexer": "ipython3",
      "version": "3.9.7"
    },
    "colab": {
      "provenance": []
    }
  },
  "nbformat": 4,
  "nbformat_minor": 5
}