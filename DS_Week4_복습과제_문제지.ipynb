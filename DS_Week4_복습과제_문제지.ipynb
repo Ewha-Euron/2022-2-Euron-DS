{
  "cells": [
    {
      "cell_type": "markdown",
      "id": "6f12edaf",
      "metadata": {
        "id": "6f12edaf"
      },
      "source": [
        "##  Week4 복습과제\n",
        "\n",
        "Week3에 대한 복습과제입니다.  \n",
        "데이터셋(train.csv, mushrooms.csv)을 다운 받아주세요!"
      ]
    },
    {
      "cell_type": "code",
      "execution_count": null,
      "id": "6719779b",
      "metadata": {
        "id": "6719779b"
      },
      "outputs": [],
      "source": [
        "import pandas as pd\n",
        "import numpy as np\n",
        "import matplotlib.pyplot as plt\n",
        "import seaborn as sns\n",
        "import warnings\n",
        "warnings.filterwarnings('ignore')"
      ]
    },
    {
      "cell_type": "markdown",
      "id": "47bb9a03",
      "metadata": {
        "id": "47bb9a03"
      },
      "source": [
        "#### 'train.csv'으로 train_df를 생성하세요."
      ]
    },
    {
      "cell_type": "code",
      "execution_count": null,
      "id": "979db9e6",
      "metadata": {
        "id": "979db9e6"
      },
      "outputs": [],
      "source": []
    },
    {
      "cell_type": "markdown",
      "id": "0874e7b6",
      "metadata": {
        "id": "0874e7b6"
      },
      "source": [
        "#### 데이터 보정을 위해 다음 코드를 실행시켜 주세요."
      ]
    },
    {
      "cell_type": "code",
      "execution_count": null,
      "id": "d824c2ee",
      "metadata": {
        "id": "d824c2ee"
      },
      "outputs": [],
      "source": [
        "# id 제외\n",
        "\n",
        "train_df = train_df.drop(\"id\", axis = 1)"
      ]
    },
    {
      "cell_type": "markdown",
      "source": [
        "#### LabelEncoder를 사용해 color, type column을 인코딩한 train_df를 만드시오."
      ],
      "metadata": {
        "id": "TkcOzV_k1Fvg"
      },
      "id": "TkcOzV_k1Fvg"
    },
    {
      "cell_type": "code",
      "source": [
        "from sklearn.preprocessing import LabelEncoder\n",
        "\n"
      ],
      "metadata": {
        "id": "FrkaPft31OaX"
      },
      "id": "FrkaPft31OaX",
      "execution_count": null,
      "outputs": []
    },
    {
      "cell_type": "markdown",
      "source": [
        "#### feature간의 상관관계를 확인하는 heatmap을 출력하시오."
      ],
      "metadata": {
        "id": "i9vP5ij_1s_6"
      },
      "id": "i9vP5ij_1s_6"
    },
    {
      "cell_type": "code",
      "source": [
        "import seaborn as sns\n",
        "\n",
        "plt.figure(figsize=(9,9))\n"
      ],
      "metadata": {
        "id": "jlYIKAtf1Yb2"
      },
      "id": "jlYIKAtf1Yb2",
      "execution_count": null,
      "outputs": []
    },
    {
      "cell_type": "markdown",
      "id": "dffe9164",
      "metadata": {
        "id": "dffe9164"
      },
      "source": [
        "#### 독립변수(X)와 종속변수(y-type)로 분리해주세요(iloc 또는 loc 활용) 그리고 확인해주세요.\n",
        "#### X와 y를 X_train, X_test, y_train, y_test으로 나누시오. (test_size=0.2, random_state=12) "
      ]
    },
    {
      "cell_type": "code",
      "execution_count": null,
      "id": "e1f4fb30",
      "metadata": {
        "id": "e1f4fb30"
      },
      "outputs": [],
      "source": [
        "from sklearn.model_selection import train_test_split"
      ]
    },
    {
      "cell_type": "code",
      "execution_count": null,
      "id": "94f2a85c",
      "metadata": {
        "id": "94f2a85c"
      },
      "outputs": [],
      "source": []
    },
    {
      "cell_type": "code",
      "source": [],
      "metadata": {
        "id": "CLhsKqQ84yHU"
      },
      "id": "CLhsKqQ84yHU",
      "execution_count": null,
      "outputs": []
    },
    {
      "cell_type": "markdown",
      "source": [
        "#### Gradient Boost를 활용하여 train 세트를 fit 한 후 test 세트로 예측의 정확도를 출력하시오. (random_state=0,n_estimators=50,learning_rate=0.5)\n"
      ],
      "metadata": {
        "id": "RRRzgi_KhGDC"
      },
      "id": "RRRzgi_KhGDC"
    },
    {
      "cell_type": "code",
      "source": [
        "from sklearn.ensemble import GradientBoostingClassifier"
      ],
      "metadata": {
        "id": "0S0xMFdDgcLb"
      },
      "id": "0S0xMFdDgcLb",
      "execution_count": null,
      "outputs": []
    },
    {
      "cell_type": "code",
      "source": [],
      "metadata": {
        "id": "LZhBzjGYhrc1"
      },
      "id": "LZhBzjGYhrc1",
      "execution_count": null,
      "outputs": []
    },
    {
      "cell_type": "markdown",
      "source": [
        "#### GBM 하이퍼 파라미터 튜닝을 한 후, 최적의 하이퍼 파라미터를 구하고 정확도를 출력하시오. 위의 값과 정확도를 비교하시오. 이때 n_estimators는 50,100,500, learning_rate는 0.005, 0.1, 0.5,1,10 을 변수로 넣으시오.(gridsearchCV이용,cv=2,verbose=1)"
      ],
      "metadata": {
        "id": "vd_H18-5hz8o"
      },
      "id": "vd_H18-5hz8o"
    },
    {
      "cell_type": "code",
      "source": [],
      "metadata": {
        "id": "e8l6ivZ7hwQI"
      },
      "id": "e8l6ivZ7hwQI",
      "execution_count": null,
      "outputs": []
    },
    {
      "cell_type": "markdown",
      "id": "e4f87798",
      "metadata": {
        "id": "e4f87798"
      },
      "source": [
        "#### 사이킷런 래퍼 클래스 XGBoost를 사용해 train 세트를 fit 한 후 test 세트로 예측의 정확도를 출력하시오. (n_estimators=400, learning_rate = 0.1, max_depth = 3)"
      ]
    },
    {
      "cell_type": "code",
      "execution_count": null,
      "id": "31188f82",
      "metadata": {
        "id": "31188f82"
      },
      "outputs": [],
      "source": [
        "import xgboost as xgb\n",
        "from xgboost import plot_importance\n",
        "from xgboost import XGBClassifier\n",
        "\n",
        "from sklearn.metrics import accuracy_score"
      ]
    },
    {
      "cell_type": "code",
      "execution_count": null,
      "id": "af980052",
      "metadata": {
        "id": "af980052"
      },
      "outputs": [],
      "source": []
    },
    {
      "cell_type": "markdown",
      "id": "8cbca7f7",
      "metadata": {
        "id": "8cbca7f7"
      },
      "source": [
        "#### 사이킷런 래퍼 클래스 LightGBM를 사용해 train 세트를 fit 한 후 test 세트로 예측의 정확도를 출력하시오. \n",
        "\n",
        "n_estimators=400\n",
        "조기 중단 파라미터: early_stopping_rounds=100, eval_metric=\"logloss\",  eval_set=evals "
      ]
    },
    {
      "cell_type": "code",
      "execution_count": null,
      "id": "b0debb5b",
      "metadata": {
        "id": "b0debb5b"
      },
      "outputs": [],
      "source": [
        "import lightgbm\n",
        "from lightgbm import LGBMClassifier\n",
        "\n",
        "evals = [(X_test, y_test)]"
      ]
    },
    {
      "cell_type": "markdown",
      "source": [
        "## Stacking 실습"
      ],
      "metadata": {
        "id": "DQ3Lnuevoz4w"
      },
      "id": "DQ3Lnuevoz4w"
    },
    {
      "cell_type": "markdown",
      "source": [
        "CV set 기반 stacking을 통해 앙상블 모델을 만드려고 합니다.    \n",
        "개별 모델이 교차검증을 통해 최종 모델이 사용할 학습용, 테스트용 데이터를 만드는 함수를 생성하시오.\n",
        "```\n",
        "def get_stacking_dataset(model, X_train, y_train, X_test, n_folds):\n",
        "    return train_fold_pred , test_pred_mean\n",
        "```"
      ],
      "metadata": {
        "id": "FSqK0PzP-YmZ"
      },
      "id": "FSqK0PzP-YmZ"
    },
    {
      "cell_type": "code",
      "source": [],
      "metadata": {
        "id": "wxGOf8YapU_C"
      },
      "id": "wxGOf8YapU_C",
      "execution_count": null,
      "outputs": []
    },
    {
      "cell_type": "markdown",
      "source": [
        "스태킹에 사용될 개별 모델을 생성하시오.\n",
        "\n",
        "개별 모델:  KNN(n_neighbors=4), 랜덤 포레스트(n_estimators=100, random_state=0), 결정 트리, AdaBoost(n_estimators=100), LightGBM(n_estimators=400)\n",
        "\n",
        "최종 모델: 로지스틱 회귀 (C=10)"
      ],
      "metadata": {
        "id": "KMgeLW3NA8Q5"
      },
      "id": "KMgeLW3NA8Q5"
    },
    {
      "cell_type": "code",
      "source": [],
      "metadata": {
        "id": "PvuuPu9Op1eb"
      },
      "id": "PvuuPu9Op1eb",
      "execution_count": null,
      "outputs": []
    },
    {
      "cell_type": "markdown",
      "source": [
        "위에서 생성한 함수를 사용해 개별 모델을 학습, 예측시켜 메타모델에 사용될 학습용 데이터와 테스트용 데이터를 생성하고, 스태킹하시오.  \n",
        "fold 수 = 6  \n",
        "학습용 데이터 : stacked_X_train  \n",
        "테스트용 데이터 : stacked_X_test"
      ],
      "metadata": {
        "id": "Wew3mwTxBWAZ"
      },
      "id": "Wew3mwTxBWAZ"
    },
    {
      "cell_type": "code",
      "source": [],
      "metadata": {
        "id": "lJI0HG3Bp2TC"
      },
      "id": "lJI0HG3Bp2TC",
      "execution_count": null,
      "outputs": []
    },
    {
      "cell_type": "code",
      "source": [],
      "metadata": {
        "id": "NtuEJGkep6EV"
      },
      "id": "NtuEJGkep6EV",
      "execution_count": null,
      "outputs": []
    },
    {
      "cell_type": "markdown",
      "source": [
        "최종 모델 (logistic regression)을 학습시키고, 정확도를 구하시오."
      ],
      "metadata": {
        "id": "z1wPcXvNHH8t"
      },
      "id": "z1wPcXvNHH8t"
    },
    {
      "cell_type": "code",
      "source": [],
      "metadata": {
        "id": "OFqd1by6p2z1"
      },
      "id": "OFqd1by6p2z1",
      "execution_count": null,
      "outputs": []
    },
    {
      "cell_type": "markdown",
      "source": [
        "### CatBoost\n",
        "\n",
        "범주형 변수가 많은 데이터에 catboost를 적용해봅시다.\n",
        "\n",
        "데이터 출처:\n",
        "https://www.kaggle.com/datasets/uciml/mushroom-classification\n"
      ],
      "metadata": {
        "id": "mZEcyqY79nZM"
      },
      "id": "mZEcyqY79nZM"
    },
    {
      "cell_type": "code",
      "source": [
        "# mushrooms.csv 파일을 사용합니다.\n",
        "\n",
        "mushroom_df = pd.read_csv()"
      ],
      "metadata": {
        "id": "mbSevRzjIHKs"
      },
      "execution_count": null,
      "outputs": [],
      "id": "mbSevRzjIHKs"
    },
    {
      "cell_type": "markdown",
      "source": [
        "mushroom_df feature들의 data type을 확인하시오."
      ],
      "metadata": {
        "id": "AjLa99HnIZ1M"
      },
      "id": "AjLa99HnIZ1M"
    },
    {
      "cell_type": "code",
      "source": [],
      "metadata": {
        "id": "Gs16WW_rp7d2"
      },
      "id": "Gs16WW_rp7d2",
      "execution_count": null,
      "outputs": []
    },
    {
      "cell_type": "markdown",
      "source": [
        "feature와 target을 각각 X_mushroom, y_mushroom으로 분리하고,  \n",
        "train_test_split 함수로 train, test set을 분리하시오. (test size = 0.2)"
      ],
      "metadata": {
        "id": "twu4cpQMKHTM"
      },
      "id": "twu4cpQMKHTM"
    },
    {
      "cell_type": "code",
      "source": [],
      "metadata": {
        "id": "T4Qwnz0Kp8Aj"
      },
      "id": "T4Qwnz0Kp8Aj",
      "execution_count": null,
      "outputs": []
    },
    {
      "cell_type": "markdown",
      "source": [
        "CatBoostClassifier를 불러오고, Pool 함수를 이용해 범주형 변수를 처리하도록 train_pool, test_pool을 만드시오."
      ],
      "metadata": {
        "id": "FAkKKfY9JC5U"
      },
      "id": "FAkKKfY9JC5U"
    },
    {
      "cell_type": "code",
      "source": [
        "!pip install "
      ],
      "metadata": {
        "id": "LAFxT8bVIEyN"
      },
      "execution_count": null,
      "outputs": [],
      "id": "LAFxT8bVIEyN"
    },
    {
      "cell_type": "code",
      "source": [
        "from catboost import "
      ],
      "metadata": {
        "id": "3uinLtop9bPW"
      },
      "execution_count": null,
      "outputs": [],
      "id": "3uinLtop9bPW"
    },
    {
      "cell_type": "code",
      "source": [],
      "metadata": {
        "id": "J_wMxvhdp9L8"
      },
      "id": "J_wMxvhdp9L8",
      "execution_count": null,
      "outputs": []
    },
    {
      "cell_type": "markdown",
      "source": [
        "iteration=400, learning_rate=0.1, max_depth=3로 설정한 CatBoost 모델로 버섯에 대한 정보를 학습하고 테스트 데이터 버섯의 독성 여부를 예측하시오. 또 정확도를 구하시오.  "
      ],
      "metadata": {
        "id": "Vu9ijqhGMWgo"
      },
      "id": "Vu9ijqhGMWgo"
    },
    {
      "cell_type": "code",
      "source": [],
      "metadata": {
        "id": "F2I7ARrWp_t3"
      },
      "id": "F2I7ARrWp_t3",
      "execution_count": null,
      "outputs": []
    },
    {
      "cell_type": "markdown",
      "source": [
        "수고하셨습니다!"
      ],
      "metadata": {
        "id": "HsvRSI0Z3G06"
      },
      "id": "HsvRSI0Z3G06"
    }
  ],
  "metadata": {
    "kernelspec": {
      "display_name": "Python 3",
      "language": "python",
      "name": "python3"
    },
    "language_info": {
      "codemirror_mode": {
        "name": "ipython",
        "version": 3
      },
      "file_extension": ".py",
      "mimetype": "text/x-python",
      "name": "python",
      "nbconvert_exporter": "python",
      "pygments_lexer": "ipython3",
      "version": "3.8.8"
    },
    "colab": {
      "provenance": [],
      "collapsed_sections": []
    }
  },
  "nbformat": 4,
  "nbformat_minor": 5
}